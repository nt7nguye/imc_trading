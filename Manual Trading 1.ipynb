{
 "cells": [
  {
   "cell_type": "code",
   "execution_count": 1,
   "id": "7d1028bb",
   "metadata": {},
   "outputs": [],
   "source": [
    "m = {\n",
    "    \"pizza\": {\n",
    "        \"wasabi\": 0.5,\n",
    "        \"snowball\": 1.45,\n",
    "        \"shells\": 0.75\n",
    "    },\n",
    "    \"wasabi\": {\n",
    "        \"pizza\": 1.95,\n",
    "        \"snowball\": 3.1,\n",
    "        \"shells\": 1.49\n",
    "    }, \n",
    "    \"snowball\": {\n",
    "        \"pizza\": 0.67,\n",
    "        \"wasabi\": 0.31,\n",
    "        \"shells\": 0.48\n",
    "    },\n",
    "    \"shells\": {\n",
    "        \"pizza\": 1.34,\n",
    "        \"wasabi\": 0.64,\n",
    "        \"snowball\": 1.98\n",
    "    }\n",
    "}"
   ]
  },
  {
   "cell_type": "code",
   "execution_count": 1,
   "id": "6465ec54",
   "metadata": {},
   "outputs": [],
   "source": [
    "start = \"shells\"\n",
    "rate = 1\n",
    "\n",
    "def recurse(curr, rate, arr):\n",
    "    if len(arr) == 6:\n",
    "        if arr[5] != \"shells\":\n",
    "            return\n",
    "        print(\"End result \", rate)\n",
    "        for num in arr: print(num)\n",
    "        print(\"======\")\n",
    "        return\n",
    "    for key, conversion in m[curr].items():\n",
    "        new_arr = arr\n",
    "        new_arr.append(key)\n",
    "        recurse(key, rate * conversion, new_arr)"
   ]
  },
  {
   "cell_type": "code",
   "execution_count": 2,
   "id": "3817a9a8",
   "metadata": {},
   "outputs": [
    {
     "ename": "NameError",
     "evalue": "name 'm' is not defined",
     "output_type": "error",
     "traceback": [
      "\u001b[1;31m---------------------------------------------------------------------------\u001b[0m",
      "\u001b[1;31mNameError\u001b[0m                                 Traceback (most recent call last)",
      "Cell \u001b[1;32mIn[2], line 1\u001b[0m\n\u001b[1;32m----> 1\u001b[0m \u001b[43mrecurse\u001b[49m\u001b[43m(\u001b[49m\u001b[43mstart\u001b[49m\u001b[43m,\u001b[49m\u001b[43m \u001b[49m\u001b[38;5;241;43m1\u001b[39;49m\u001b[43m,\u001b[49m\u001b[43m \u001b[49m\u001b[43m[\u001b[49m\u001b[43m]\u001b[49m\u001b[43m)\u001b[49m\n",
      "Cell \u001b[1;32mIn[1], line 12\u001b[0m, in \u001b[0;36mrecurse\u001b[1;34m(curr, rate, arr)\u001b[0m\n\u001b[0;32m     10\u001b[0m     \u001b[38;5;28mprint\u001b[39m(\u001b[38;5;124m\"\u001b[39m\u001b[38;5;124m======\u001b[39m\u001b[38;5;124m\"\u001b[39m)\n\u001b[0;32m     11\u001b[0m     \u001b[38;5;28;01mreturn\u001b[39;00m\n\u001b[1;32m---> 12\u001b[0m \u001b[38;5;28;01mfor\u001b[39;00m key, conversion \u001b[38;5;129;01min\u001b[39;00m \u001b[43mm\u001b[49m[curr]\u001b[38;5;241m.\u001b[39mitems():\n\u001b[0;32m     13\u001b[0m     new_arr \u001b[38;5;241m=\u001b[39m arr\n\u001b[0;32m     14\u001b[0m     new_arr\u001b[38;5;241m.\u001b[39mappend(key)\n",
      "\u001b[1;31mNameError\u001b[0m: name 'm' is not defined"
     ]
    }
   ],
   "source": [
    "recurse(start, 1, [])"
   ]
  }
 ],
 "metadata": {
  "kernelspec": {
   "display_name": "Python 3 (ipykernel)",
   "language": "python",
   "name": "python3"
  },
  "language_info": {
   "codemirror_mode": {
    "name": "ipython",
    "version": 3
   },
   "file_extension": ".py",
   "mimetype": "text/x-python",
   "name": "python",
   "nbconvert_exporter": "python",
   "pygments_lexer": "ipython3",
   "version": "3.9.13"
  }
 },
 "nbformat": 4,
 "nbformat_minor": 5
}
